{
 "cells": [
  {
   "cell_type": "code",
   "execution_count": 2,
   "id": "6257031c",
   "metadata": {},
   "outputs": [
    {
     "name": "stdout",
     "output_type": "stream",
     "text": [
      "Enter the YouTube video URL: https://youtu.be/UYySvyc4M68\n",
      "Subtitles:\n",
      "so this video I want to talk about a fewproject ideas that I feel can actuallybecome real businesses the problem withbuilding projects is if you build aproject it's decent for your learningbut no one uses it and if no one willuse it you won't understand the actualproblems that exist in your project soin this video let's discuss a few ideasthat I feel can become businesses theseall are pain points for me so if youbuild some of these I'll happily be yourfirst customer and I'm happy to buy likean annual subscription for it if youprice it humbly at like 30 50 a monthsomething like that and if you translatethat to let's say 100 people if 100people pay 50 a month for your servicethat's around 60 000 a year which ispretty good and I feel there are atleast 100 people in the world who havethis specific problem even if nothingmonetary comes out of it I think you'lllearn a lot and if you build a projectthat people actually want people use andpoint out the mistakes in it you'llunderstand how projects should be builtin a production scenario with that let'sget right into it the first one is theone I'm most excited about and I'llhappily buy a annual subscription foryou if you build it here is the problemstatement I have a YouTube channel but Idon't edit any of my videos all thesevideos are edited by some other peopleand once they're done with it they sendme the final video and I upload it on myYouTube channel the problem is I amtraveling a lot and a bunch of timeswhen I'm traveling I don't have theright internet to download a 2GB fileand then upload it to YouTube nowYouTube does provide you a way to fixthis you can add other people as editorsbut I'm extremely paranoid to do that soI won't give anyone else access to mychannel this means there's always amanual effort of me coming in someonesending me a video me downloading it anduploading it to YouTube and this is theproblem I want to fix this might soundlike a very minor inconvenience but itis a pretty major inconvenience for meand this is something I'll happily pay30 50 a month for if someone can solvethis problem I think it can be solved inone way which isum put a layer in the middle between theeditorsand her kiraththe editors sign up on a platformher gear signs up on a platform givesaccess to his YouTube to the platformand the editors have access to Akira'sworkspace any time a video is finishedan editor can upload it on YouTube setthe title set the description and uploadthe video before it goes to a YouTubeserveran approval needs to come through so itwill be a WhatsApp message for me or aslack notification and I need to approvethis specific video for it to getuploaded to YouTube which means theeditor is the person who sends a 1GBfile to a serverafter my approval the 1GB file goes tothe YouTube server that way I don't haveto download the file and I'm also notparanoid because all things arehappening after my approval if I useYouTube's native editor feature there isno approval from me in the middle andhence people can upload anything on myYouTube channel which is something Idon't want cool I think the way to buildit is fairly straightforward when aYouTuber comes here they can sign up andthey can give access to their YouTubechannel their keys are then stored in adatabaseand then the YouTuber can add otherpeople which are editors and anytime aneditor uploads a file here it stays onyour server until the approval when theapproval happens is when you finallysend it to YouTubea few problems I can think of already isdoes YouTube expose this as an API I amnot sure if I had to guess I would thinkyes they would expose uploading as anAPI so you'll have to figure out thatthe thing about these businesses isespecially YouTube specific businessesis um a minor inconvenience can havevery high payouts this happened withstream yard where everyone kept sayinghere stream yard is such a bad businessand you know YouTube can always replacethem but that minor inconvenience ofbeing able to stream directly from abrowser ended up becoming a 250 milliondollar company hence I have a feelingthis is a similar minor inconvenienceand YouTube doesn't have the time to fixthis they're working on a bunch of otherthings and a small business can comehere and help a lot of YouTubers out butyou don't have to start there you canstart from a small Niche one of thesepeople being me if you build this systemand it's stable enough I'll happily useit if you can go one step further I'durge you to either open source this orprovide some sort of licenses so peoplecan self-host this if I have my own AWSmachine where I can host a service likethis then I have zero paranoia becausethen my YouTube key is on my own ewsserver which I trust versus if there isa third party service something that youmight build then my YouTube key isbasically with you guys on your serveron your database wherever and then Ihave some paranoid that if your websitegets hacked or your backend gets hackedthen my YouTube channel will have randomuploads which is something I don't wantso if you can provide a way to self-hostit great if not still I think this is afairly usable product I would definitelypay for it with that let's move to thesecond point the second one I'm callinginternationalization as a service somost websites that you look at todaymight be written in English as in thelanguage of choice on that website asEnglish a few websites let you changethe language this is a mildly hardtechnical problem to solve and thereason is because for the developer of acompany that has written everything inEnglish let's say there is a very biguphill battle to find all the strings inyour code base that are in English andsomehow templatize them so that they canbe replaced with Chinese Hindi so on andso forth so I've seen whenever a companywants to open to New Markets and addother languages to their website there'sa very high uphill curve for a developerto build this whole internationalizationsystem the second problem is as thewebsite grows new strings keep gettingadded and when new strings get added youneed to convert them to Chinese JapaneseHindi so on and so forth so you needsomething called translators who helpyou translate your strings I think bothof these can be staggered together tobuild a business in itself which is okayhey if you are an open source code baseour developers or for you it will justbe one person will come to your codebase I will add internationalizationthroughout your code base and I willmaintain a list of translators which youcan do either via AI or you can hirepeople from all around the world whowill translate strings and take thatpain away for a big code base so you goto a company you go to an open sourcecode base and you tell them your websitedoesn't have internationalization I asthe developer will come addinternationalization throughout yourcode base create a single Englishtemplates file which contains all theEnglish strings and all translationsinto Chinese Japanese Hindi I willhandle by either translators or via Aiand that way you take away that painpoint for that company and for theinitial uplift of addinginternationalization to your code pay melike a thousand to three thousanddollars because it's like an initialeffort of 20 to 50 hours that you haveto put in to go through their code baseand replace all the strings withtemplates cool that's idea number twolet's move to the third one this one'scalled adding open API to your backendso you will still be a service providerlike the last service and you'll go toan open source code base or like acompany and you'll tell them hey youhave a decent backend why not open APIfight and that way other people caninteract with your backend but moreimportantly the reason I want to bringthis up is because to create a chat CPTPlugin or like make check GPT talk toyour own backend you have to expose openAPI specs that's what chat gbt supportsright now unless your backend has verywell documented routes what every routedoes in the open API spec you cannotcreate a chart GPT plugin right now so Ifeel eventually all businesses the modewill be just the backend and users mightnot go to websites they'll just askstrategory to do something for examplethey'll go to charge GPT and write heybuy me stocks for Google ads a certainprice and this will automatically open atrade on zeroth or whatever exchangethey're using hence if this is theexchangethey need to expose their backend apisin the open API specso that chat GPTcan talk to it right now this is theonly way for charge GPD to talk to yourbackend and understand what every routedoes and I feel as more and more peoplecluster to chat gbt and like Generallanguage modelsthese backends are what will remain themode of businesses and no one will go towebsitesto access these backends they'll simplyask that GPD to do something and chargegbt Will based on the language model andwhatever is written here as to whatbackend the routes dofinally call your back-end products andexecute the trade out do whateverservice your website is doingfor that you need to add open API toyour backend and that is again anotheruphill task to do it it's very hard andweird in every languageso you can charge a one-time fee andyour pitch can be okay you can get aheadof your competitors by creating a chargeGPT plugin that way your users cansimply talk to chargpt and do things onyour backend versus your competitorspeople still have to go to the websiteand click buttons that will be yourpitch I think you can easily charge 5 to10K to do this for a certain companybecause depending on how big their codebase is this will be a uphill task tofigure out all the inputs and outputsand what a specific back-end route doesthis is all the things that you sort ofput in this very big spec file that iswhat chat GPT reads and understands whateach and a way out of yours does allright so uh long story short my mic diedwhen I was recording this video and thisis post the edit that I came to knowthat so the last two points I'm going totalk about here on the boardthe next point was uh adding tests to acode base so when you're a startup whenyou're an open source project a lot oftimes you have to move really fast so ifyou look at a bunch of Open Sourceprojects you'll see they always saytests are welcome like a muchappreciated because the developers don'thave the time to write tests and eventhough they have long term benefits inthe short term writing tests just takesup a lot of time so you could do one oftwo things if there is an open sourceproject that does not have tests createthe complete testing suite for it andwhen you do this I think you can chargethem upfront like a decent amount okayyour software developers don't have toworry about tests we will create anindependent module that is testingbetween a test or integration tests andgive us an upfront free and then we'llbe out of your business or you could belike okay we will handle your tests fromhere until eternity which means it willbe a recurring business we will chargeyou based on the number of lines wecover the number of lines of code wewrite so on and so forth just a flat feeof a thousand dollars a month is Mayanytime a developer of your team addssome code we will write some tests andthis could also be automated via AI Ithink or at least you can use AI for alot of help to write these tests soeither one of these two and like thirdone is even if you want to just gethired at a company open source projectso you seek there is no tests writtenand the developers of the specificproject don't even know or have the timeto write tests I've got to RK if youcome into the project and write the onethe whole boilerplate to setup tests andtwo add like 50 coverageor more specifically like there was abug in their company recently and youadd a test that tests that specific bugand you tell okay test if this test wasthere already this bug would have faileduh before it got deployed so thesethings can sort of be impressive factorseven if you're applying for a job butthis video is specifically for projectsthat you can charge for so I feeltesting as a recurring business is greator adding a one-time test to a bigproject where developers don't have thetime to do it is also good one-time feethat you can charge will vary fromProject to project but for a goodproject I think 2K to 5K or whateverlike hourly into like an hourly rate of20 50 an hour into the number of hoursyou're putting into right tests I thinkis a very nice thing for a company tojust Outsource to someone all right withthat let's move to the next one the lastpoint I wanted to talk about and this isa very Niche and a very new use case sonext yes recently not recently like sixmonths ago came out with next js13 it'sa significantly better than the previousversion and there are a lot of projectsout there that haven't yet migrated toit this causes a bunch of issues so thisNexus 13 specifically has this thingcalled server side components and clientsend components if I wouldn't call it abreaking change but they have made avery big change of defining upfront whenyou are creating your front-endcomponents whether it's a whether itshould be rendered on the server or onthe client not every library has movedto it so you can go to an open sourcefamous Library components framework a UIlibrary and tell them okay I will helpyou migrate to Nexus 13 which basicallymeans it'll help label their componentsas client or server side or you could goto a project that hasn't yet moved tothe latest app router and still uses theexisting onetrial.com for example still uses thepages router which is totally fine goodand like works very well has worked wellfor years but eventually at some pointcompanies will migrate to the new approuter that Nexus has introduced and ifthat you can pick up as a one-time taskand you know charge them this I will doand then I'll leave and then yourdevelopers will do their thing as theyused to sothis also seems like a very necessaryuse case that a company would veryhappily Outsource for a one-time fee soif I was in your shoes and you may ormay not do it but I would just do themigration and then ping them here I madethis migration if you like it you canpay me something if not that's fine bestcase like they pay you something worstcase you learn something new but thisalso is a very good learning experiencefor you to one understand how Nexus 13applications are written how they'redifferent from Nexus 12 like theprevious versions and what is themigrationprocedure to bring it to the latestversion what the server side componentwhat are clients and components the newway to fetch things on the back end howthey have changed how you can now createasynchronous server side componentsversus you know sending fetch requestslike you used to so a bunch of smallthings that have changed and these willhave long lasting impacts like thesewill become the norm eventually in a fewyears so why not help companies migrateto it and get paid for in the processcool so this was the first projectum again the goal of this video wascompanies are either not hiring yeahwhy not rather than begging to get hiredor like waiting to get hired why not dosomething that helps the companyactually and then whatever you get paidfor it is fine I feel some of these canbecome really good like real businessesespecially the YouTube one but if you'renot yet ready to you know build abusiness of your own Why not startgiving services to people and then maybeget paid for it cool with that let's endthe video I'll see you the next one byethank you\n"
     ]
    }
   ],
   "source": [
    "# import streamlit as st\n",
    "from youtube_transcript_api import YouTubeTranscriptApi\n",
    "from urllib.parse import urlparse, parse_qs\n",
    "# from transformers import pipeline\n",
    "\n",
    "# summarizer = pipeline('summarization')\n",
    "\n",
    "def get_video_id(url):\n",
    "    parsed = urlparse(url)\n",
    "    if parsed.netloc == 'www.youtube.com':\n",
    "        video_id = parse_qs(parsed.query)['v'][0]\n",
    "        return video_id\n",
    "    elif parsed.netloc == 'youtu.be':\n",
    "        video_id = parsed.path[1:]\n",
    "        return video_id\n",
    "    else:\n",
    "        raise ValueError(\"Invalid YouTube URL\")\n",
    "\n",
    "def fetch_subtitles(video_url):\n",
    "    try:\n",
    "        video_id = get_video_id(video_url)\n",
    "        transcript = YouTubeTranscriptApi.get_transcript(video_id)\n",
    "        return transcript\n",
    "    except Exception as e:\n",
    "        return None\n",
    "\n",
    "\n",
    "if __name__ == '__main__':\n",
    "    youtube_url = input(\"Enter the YouTube video URL: \")\n",
    "    \n",
    "    subtitles = fetch_subtitles(youtube_url)\n",
    "    if subtitles:\n",
    "        print(\"Subtitles:\")\n",
    "        \n",
    "#         for subtitle in subtitles:\n",
    "#             print(f\"{subtitle['start']} - {subtitle['start'] + subtitle['duration']} : {subtitle['text']}\")\n",
    "\n",
    "\n",
    "    else:\n",
    "        print(\"Subtitles not available for this video.\")\n",
    "\n",
    "text = \"\"\n",
    "for i in subtitles:\n",
    "    text+=i['text']\n",
    "print(text)\n"
   ]
  },
  {
   "cell_type": "code",
   "execution_count": 10,
   "id": "09d9d119",
   "metadata": {},
   "outputs": [
    {
     "name": "stdout",
     "output_type": "stream",
     "text": [
      "https://youtu.be/eZT8RUuWvR8\n",
      "ParseResult(scheme='https', netloc='youtu.be', path='/eZT8RUuWvR8', params='', query='', fragment='')\n"
     ]
    }
   ],
   "source": [
    "from urllib.parse import urlparse,parse_qs\n",
    "s = input()\n",
    "parsed = urlparse(s)\n",
    "print(parsed)"
   ]
  },
  {
   "cell_type": "code",
   "execution_count": 8,
   "id": "78c925ea",
   "metadata": {},
   "outputs": [
    {
     "data": {
      "text/plain": [
       "12545"
      ]
     },
     "execution_count": 8,
     "metadata": {},
     "output_type": "execute_result"
    }
   ],
   "source": [
    "len(text)"
   ]
  },
  {
   "cell_type": "code",
   "execution_count": 9,
   "id": "6bd58eec",
   "metadata": {},
   "outputs": [],
   "source": [
    "summary = \"\"\"Segment 1: Five project ideas for full stack development . I've structured these assignments is that I've written very nice prompts so the things that you do not understand you can ask chatGPT to build but I would prefer that you write them yourself these are five ideas that are slightly more than full stacks . These are actually clones of websites but these are not simple websites they don't have the basic user signs up and does something they have some special Moat .\n",
    "\n",
    "Segment 2: The basic structure or skeleton of the app will be the same for all five but the thing that's very difficult will be different for each and everyone of these . The first one is called a stream yard clone so if you've seen this website called streamyard.com it basically is a website that lets you stream from your browser to YouTube .\n",
    "\n",
    "Segment 3: The scope for this project is that you don't need it to be multiplayered a single user needs to stream from the browser to YouTube . eam that sort of reached like eight million dollars in revenue and then finally got acquired for 250 million so pretty good business during covid .\n",
    "\n",
    "Segment 4: Wein ver and this backend server needs to convert this input stream for whatever format it might be into this format called rtmp which is the format that YouTube understands the same goes for twitch both YouTube twitch other streaming platforms they all give you an input rtmp URL and rtmp is hard to produce .\n",
    "\n",
    "Segment 5: g web RTC how do you do that in the browser you have very simple constructs that let you do it so on this side is fairly easy to do if this is your browser . The difficult bit is writing the server side Logic for it which could be either a node.js or usually it's in Golan where you're able to capture this input webrtc stream decode it using something like FFMPeg or gstreamer .\n",
    "\n",
    "Segment 6: Google Docs is a fairly simple application the only thing that's difficult here and there are two difficult things . Web sockets are not a peer-to-peer protocol so if there is one browser here there's another browser here, there needs to be a server in the middle . The other difficult bit here is avoiding clashes w. he two services and what kind of cables you need to create if you're using an sql database .\n",
    "\n",
    "Segment 7: The most difficult bit thing to build in Google Docs cool moving on a Google meet clone so we've done stream yard and I told you guys that in stream yard the way to send video from one server sorry from the browser to the server was this protocol called webrtc and this is also the protocol that's used in real time communication between browsers .\n",
    "\n",
    "Segment 8: Media communication between browsers can be done by webrtc as a construct that your browsers understand so it's actually fairly easy to do you need a server in the middle that's usually called the peering server or the signaling server . After the communication has been established you can basically send packets between browsers as long as you're in a decent Network .\n",
    "\n",
    "Segment 9: Google Drive is simple right I think it's probably the simplest to implement here because we have very nice object stores right now like S3 and gcp also has one I'm forgetting uh but you can basically just Outsource storing the data which is the most difficult bit here .\n",
    "\n",
    "Segment 10: S3 provides you a way to send it directly to S3 directly to make it secure . Most people when they build such a system relay this information via a server of their own to the S3 . The problem here is you don't want like a 1GB file to reach your server and then go to S3 when you upload something it creates a pre-signed URL .\n",
    "\n",
    "Segment 11: Google Drive is a basic architecture of Google Drive then you just need to create shareable links lastly leetCode I've basically created a full stack series on this we've built everything here the front-end and backend which are simple stuff . The difficult bit which some guy actually did and won a pair of airpods as well was running someone else's code in a containerized fashion on a server .\n",
    "\n",
    "Segment 12: Docker orchestration can be simple as taking input from the user maybe putting this in a queue and then having workers that can pick elements from this queue one by one and run the code in a containerized fashion . Docker allows you to give certain level of sort of limits as in 4GB RAM or like one second is the maximum time that you want the specific code to run and you have very nice construct to allow that in Docker .\n",
    "\n",
    "Segment 13: These are not too difficult to build and you can build them in two to three hours . I would urge you guys to do it yourself the repo is linked in the description of the project . I will personally try to build one and a half to two hour video where I will try to time-box and finish all the functionalities .\"\"\""
   ]
  },
  {
   "cell_type": "code",
   "execution_count": 7,
   "id": "c006da39",
   "metadata": {},
   "outputs": [
    {
     "data": {
      "text/plain": [
       "4787"
      ]
     },
     "execution_count": 7,
     "metadata": {},
     "output_type": "execute_result"
    }
   ],
   "source": [
    "len(summary)"
   ]
  },
  {
   "cell_type": "code",
   "execution_count": null,
   "id": "8e5fdaf0",
   "metadata": {},
   "outputs": [],
   "source": []
  },
  {
   "cell_type": "code",
   "execution_count": null,
   "id": "95f37105",
   "metadata": {},
   "outputs": [],
   "source": []
  }
 ],
 "metadata": {
  "kernelspec": {
   "display_name": "Python 3 (ipykernel)",
   "language": "python",
   "name": "python3"
  },
  "language_info": {
   "codemirror_mode": {
    "name": "ipython",
    "version": 3
   },
   "file_extension": ".py",
   "mimetype": "text/x-python",
   "name": "python",
   "nbconvert_exporter": "python",
   "pygments_lexer": "ipython3",
   "version": "3.7.0"
  }
 },
 "nbformat": 4,
 "nbformat_minor": 5
}
